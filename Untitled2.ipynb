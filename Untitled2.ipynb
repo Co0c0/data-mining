{
 "cells": [
  {
   "cell_type": "code",
   "execution_count": 1,
   "metadata": {},
   "outputs": [],
   "source": [
    "import numpy as np\n",
    "import pandas as pd\n",
    "import matplotlib.pyplot as plt\n",
    "\n",
    "from sklearn.model_selection import train_test_split\n",
    "from sklearn.preprocessing import StandardScaler\n",
    "from sklearn.metrics import r2_score, mean_squared_error\n",
    "\n",
    "from sklearn.linear_model import LinearRegression\n",
    "from sklearn.preprocessing import PolynomialFeatures\n",
    "from sklearn.linear_model import Ridge\n",
    "from sklearn.linear_model import Lasso\n",
    "\n",
    "from sklearn.model_selection import cross_val_score"
   ]
  },
  {
   "cell_type": "code",
   "execution_count": 2,
   "metadata": {},
   "outputs": [
    {
     "data": {
      "text/plain": [
       "\"\\ndf=pd.read_csv('Bos_Housing.csv')\\nX=df.drop('price',axis=1).values\\ny=df['price'].values\\nX_train,X_test,y_train,y_test=train_test_split(X,y,test_size=0.2,random_state=0)\\nprint('Training data:',X_train.shape[0])\\nprint('Testing data:',X_test.shape[0])\\n\""
      ]
     },
     "execution_count": 2,
     "metadata": {},
     "output_type": "execute_result"
    }
   ],
   "source": [
    "\"\"\"\n",
    "df=pd.read_csv('Bos_Housing.csv')\n",
    "X=df.drop('price',axis=1).values\n",
    "y=df['price'].values\n",
    "X_train,X_test,y_train,y_test=train_test_split(X,y,test_size=0.2,random_state=0)\n",
    "print('Training data:',X_train.shape[0])\n",
    "print('Testing data:',X_test.shape[0])\n",
    "\"\"\""
   ]
  },
  {
   "cell_type": "code",
   "execution_count": null,
   "metadata": {},
   "outputs": [],
   "source": [
    "X=df[['影響Y的column']].values\n",
    "y= df['受影響的特徵'].values\n",
    "\n",
    "slr=LinearRegression()\n",
    "slr.fit(X,y)\n",
    "\n",
    "y_train_pred = slr.predict(X)\n",
    "\n",
    "print('Slope  (w_0): %.2f' % slr.coef_[0])\n",
    "print('Intercept/bias (w_0): %.2f' % slr.intercept_)\n",
    "\n",
    "#視覺化\n",
    "def lin_regplot(X,y,model):\n",
    "    plt.scatter(X,y,c='blue')\n",
    "    plt.plot(X,model.predict(X),color='red',linewidth=2)\n",
    "    return  \n",
    "\n",
    "lin_regplot(X,y,slr)\n",
    "plt.xlabel('')\n",
    "plt.ylabel('')\n",
    "plt.tight_layout()\n",
    "plt.show()\n",
    "\n",
    "#MSE,R^2\n",
    "sc=StandardScaler()\n",
    "sc.fit(X_train)\n",
    "X_train_std = sc.transform(X_train)\n",
    "X_test_std = sc.transform(X_test)\n",
    "\n",
    "slr=LinearRegression()\n",
    "slr.fit(X_train_std,y_train)\n",
    "\n",
    "y_train_pred = slr.predict(X_train_std)\n",
    "y_test-pred = slr.predict(X_test_std)\n",
    "\n",
    "print('(MSE) train: %.2f,test: %.2f'%(mean_squared_error(y_train,y_train_pred),mean_squared_error(y_test,y_test_pred)))\n",
    "print('(R^2) train: %.2f,test: %.2f'%(r2_score(y_train,y_train_pred),r2_score(y_test,y_test_pred)))\n",
    "\n",
    "#視覺化:\n",
    "plt.scatter(\n",
    "    y_train_pred,\n",
    "    y_train_pred - y_train,\n",
    "    c='blue',\n",
    "    marker='o'\n",
    "    label='Training data')\n",
    "plt.scatter(\n",
    "    y_test_pred,\n",
    "    y_test_pred - y_test,\n",
    "    c='lightgreen',\n",
    "    marker='s'\n",
    "    label='Test data')\n",
    "plt.xlabel\n",
    "plt.ylabel\n",
    "plt.legend(loc='upper left')\n",
    "plt.hlines(y=0,xmin=-10,xmax=50,lw=2,color='red')\n",
    "plt.xlim\n",
    "plt.tight_layout()\n",
    "plt.show()\n",
    "\n",
    "#Polynomial Regression\n",
    "lin_regr = LinearRegression()\n",
    "quad_regr = LinearRegression()\n",
    "cubic_regr = LinearRegression()\n",
    "\n",
    "quadratic = PolynomailFeatures(degree = 2)\n",
    "cubic = PolynomialFeatures(degree = 3)\n",
    "\n",
    "X_quad_train = quadratic.fit_transform(X_train_std)\n",
    "X_quad_test = quadratic.fit_transform(X_test_std)\n",
    "X_cubic_train = cubic.fit_transform(X_train_std)\n",
    "X_cubic_test = cubic.fit_transform(X_test_std)\n",
    "\n",
    "lin_regr.fit(X_train_std,y_train)\n",
    "linear_r2_train = r2_score(y_train,lin_regr.predict(X_train_std))\n",
    "linear_r2_test = r2_score(y_test,lin_regr.predict(X_test_std))\n",
    "\n",
    "quad_regr.fit(X_quad_train,y_train)\n",
    "quad_r2_train = r2_score(y_train,quad_regr.predict(X_quad_train))\n",
    "quad_r2_test = r2_score(y_test,quad_regr.predict(X_quad_test))\n",
    "\n",
    "cubic_regr.fit(X_cubic_train,y_train)\n",
    "cubic_r2_train = r2_score(y_train,cubic_regr.predict(X_cubic_train))\n",
    "cubic_r2_test = r2_score(y_test,cubic_regr.predict(X_cubic_test))\n",
    "\n",
    "print('(R^2) train:\\ndegree=1: %.2f, degree=2: %.2f, degree=3: %.2f'%\n",
    "     (linear_r2_train,quad_r2_train,cubic_r2_train))\n",
    "print('(R^2) test:\\ndegree=1: %.2f, degree=2: %.2f, degree=3: %.2f'%\n",
    "     (linear_r2_test,quad_r2_test,cubic_r2_test))\n",
    "\n",
    "#Ridge Regression\n",
    "ridgeReg = Ridge(alpha=0.05,normalize=True)\n",
    "ridgeReg.fit(X_cubic_train,y_train)\n",
    "\n",
    "y_train_pred=ridgeReg.predict(X_cubic_train)\n",
    "y_test_pred= ridgeReg.predict(X_cubic_test)\n",
    "\n",
    "print('(MSE) train: %.2f,test: %.2f'%\n",
    "      (mean_squared_error(y_train,y_train_pred),\n",
    "       mean_squared_error(y_test,y_test_pred)))\n",
    "print('(R^2) train: %.2f,test: %.2f'%\n",
    "      (r2_score(y_train,y_train_pred),\n",
    "       r2_score(y_test,y_test_pred)))\n",
    "\n",
    "#Lasso Regression\n",
    "lassoReg = Lasso(alpha=0.05,normalize=True)\n",
    "lassoReg.fit(X_cubic_train,y_train)\n",
    "\n",
    "y_train_pred=lassoReg.predict(X_cubic_train)\n",
    "y_test_pred= lassoReg.predict(X_cubic_test)\n",
    "\n",
    "print('(MSE) train: %.2f,test: %.2f'%\n",
    "      (mean_squared_error(y_train,y_train_pred),\n",
    "       mean_squared_error(y_test,y_test_pred)))\n",
    "print('(R^2) train: %.2f,test: %.2f'%\n",
    "      (r2_score(y_train,y_train_pred),\n",
    "       r2_score(y_test,y_test_pred)))"
   ]
  },
  {
   "cell_type": "code",
   "execution_count": 5,
   "metadata": {},
   "outputs": [],
   "source": [
    "df=pd.read_csv('titanic.csv')\n",
    "df=df.drop(['PassengerId','Name','Ticket','Cabin','Survived'],axis=1)\n",
    "df['Age']=df['Age'].fillna(df['Age'].mean())\n",
    "df['Sex']=df['Sex'].map({'female':0,'male':1})\n",
    "\n",
    "def dummy_data(data,columns):\n",
    "    for column in columns:\n",
    "        data=pd.concat([data,pd.get_dummies(data[column],prefix=column)],axis=1)\n",
    "        data=data.drop(column,axis=1)\n",
    "    return data\n",
    "dummy_columns=['Pclass','Embarked']\n",
    "df=dummy_data(df,dummy_columns)\n",
    "\n",
    "X=df.drop('Fare',axis=1).values\n",
    "y=df['Fare'].values"
   ]
  },
  {
   "cell_type": "code",
   "execution_count": 6,
   "metadata": {},
   "outputs": [
    {
     "name": "stdout",
     "output_type": "stream",
     "text": [
      "Training data: 623\n",
      "Testing data: 268\n"
     ]
    }
   ],
   "source": [
    "#牛刀小試1\n",
    "X_train,X_test,y_train,y_test=train_test_split(X,y,test_size=0.3,random_state=0)\n",
    "print('Training data:',X_train.shape[0])\n",
    "print('Testing data:',X_test.shape[0])"
   ]
  },
  {
   "cell_type": "code",
   "execution_count": 10,
   "metadata": {},
   "outputs": [
    {
     "name": "stdout",
     "output_type": "stream",
     "text": [
      "(MSE) train: 1327.93,test: 1576.21\n",
      "(R^2) train: 0.43,test: 0.44\n"
     ]
    }
   ],
   "source": [
    "sc=StandardScaler()\n",
    "sc.fit(X_train)\n",
    "X_train_std = sc.transform(X_train)\n",
    "X_test_std = sc.transform(X_test)\n",
    "\n",
    "slr=LinearRegression()\n",
    "slr.fit(X_train_std,y_train)\n",
    "\n",
    "y_train_pred = slr.predict(X_train_std)\n",
    "y_test_pred = slr.predict(X_test_std)\n",
    "\n",
    "print('(MSE) train: %.2f,test: %.2f'%(mean_squared_error(y_train,y_train_pred),mean_squared_error(y_test,y_test_pred)))\n",
    "print('(R^2) train: %.2f,test: %.2f'%(r2_score(y_train,y_train_pred),r2_score(y_test,y_test_pred)))\n"
   ]
  },
  {
   "cell_type": "code",
   "execution_count": 12,
   "metadata": {},
   "outputs": [
    {
     "name": "stdout",
     "output_type": "stream",
     "text": [
      "(R^2) train:\n",
      "degree=1: 0.43, degree=2: 0.53, degree=3: 0.59\n",
      "(R^2) test:\n",
      "degree=1: 0.44, degree=2: 0.52, degree=3: -39037425126725754880.00\n"
     ]
    }
   ],
   "source": [
    "lin_regr = LinearRegression()\n",
    "quad_regr = LinearRegression()\n",
    "cubic_regr = LinearRegression()\n",
    "\n",
    "quadratic = PolynomialFeatures(degree = 2)\n",
    "cubic = PolynomialFeatures(degree = 3)\n",
    "\n",
    "X_quad_train = quadratic.fit_transform(X_train_std)\n",
    "X_quad_test = quadratic.fit_transform(X_test_std)\n",
    "X_cubic_train = cubic.fit_transform(X_train_std)\n",
    "X_cubic_test = cubic.fit_transform(X_test_std)\n",
    "\n",
    "lin_regr.fit(X_train_std,y_train)\n",
    "linear_r2_train = r2_score(y_train,lin_regr.predict(X_train_std))\n",
    "linear_r2_test = r2_score(y_test,lin_regr.predict(X_test_std))\n",
    "\n",
    "quad_regr.fit(X_quad_train,y_train)\n",
    "quad_r2_train = r2_score(y_train,quad_regr.predict(X_quad_train))\n",
    "quad_r2_test = r2_score(y_test,quad_regr.predict(X_quad_test))\n",
    "\n",
    "cubic_regr.fit(X_cubic_train,y_train)\n",
    "cubic_r2_train = r2_score(y_train,cubic_regr.predict(X_cubic_train))\n",
    "cubic_r2_test = r2_score(y_test,cubic_regr.predict(X_cubic_test))\n",
    "\n",
    "print('(R^2) train:\\ndegree=1: %.2f, degree=2: %.2f, degree=3: %.2f'%\n",
    "     (linear_r2_train,quad_r2_train,cubic_r2_train))\n",
    "print('(R^2) test:\\ndegree=1: %.2f, degree=2: %.2f, degree=3: %.2f'%\n",
    "     (linear_r2_test,quad_r2_test,cubic_r2_test))"
   ]
  },
  {
   "cell_type": "code",
   "execution_count": 14,
   "metadata": {},
   "outputs": [
    {
     "name": "stdout",
     "output_type": "stream",
     "text": [
      "(MSE) train: 967.87,test: 1435.62\n",
      "(R^2) train: 0.58,test: 0.49\n"
     ]
    }
   ],
   "source": [
    "ridgeReg = Ridge(alpha=0.05,normalize=True)\n",
    "ridgeReg.fit(X_cubic_train,y_train)\n",
    "\n",
    "y_train_pred=ridgeReg.predict(X_cubic_train)\n",
    "y_test_pred= ridgeReg.predict(X_cubic_test)\n",
    "\n",
    "print('(MSE) train: %.2f,test: %.2f'%\n",
    "      (mean_squared_error(y_train,y_train_pred),\n",
    "       mean_squared_error(y_test,y_test_pred)))\n",
    "print('(R^2) train: %.2f,test: %.2f'%\n",
    "      (r2_score(y_train,y_train_pred),\n",
    "       r2_score(y_test,y_test_pred)))"
   ]
  },
  {
   "cell_type": "code",
   "execution_count": 15,
   "metadata": {},
   "outputs": [
    {
     "name": "stdout",
     "output_type": "stream",
     "text": [
      "(MSE) train: 1065.90,test: 1408.27\n",
      "(R^2) train: 0.54,test: 0.50\n"
     ]
    }
   ],
   "source": [
    "lassoReg = Lasso(alpha=0.05,normalize=True)\n",
    "lassoReg.fit(X_cubic_train,y_train)\n",
    "\n",
    "y_train_pred=lassoReg.predict(X_cubic_train)\n",
    "y_test_pred= lassoReg.predict(X_cubic_test)\n",
    "\n",
    "print('(MSE) train: %.2f,test: %.2f'%\n",
    "      (mean_squared_error(y_train,y_train_pred),\n",
    "       mean_squared_error(y_test,y_test_pred)))\n",
    "print('(R^2) train: %.2f,test: %.2f'%\n",
    "      (r2_score(y_train,y_train_pred),\n",
    "       r2_score(y_test,y_test_pred)))"
   ]
  },
  {
   "cell_type": "code",
   "execution_count": null,
   "metadata": {},
   "outputs": [],
   "source": []
  }
 ],
 "metadata": {
  "kernelspec": {
   "display_name": "Python 3",
   "language": "python",
   "name": "python3"
  },
  "language_info": {
   "codemirror_mode": {
    "name": "ipython",
    "version": 3
   },
   "file_extension": ".py",
   "mimetype": "text/x-python",
   "name": "python",
   "nbconvert_exporter": "python",
   "pygments_lexer": "ipython3",
   "version": "3.7.3"
  }
 },
 "nbformat": 4,
 "nbformat_minor": 2
}
